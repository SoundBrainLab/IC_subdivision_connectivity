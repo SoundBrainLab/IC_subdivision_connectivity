{
 "cells": [
  {
   "cell_type": "code",
   "execution_count": 2,
   "id": "5377cd43-6beb-44be-bc68-1930183bf2a2",
   "metadata": {},
   "outputs": [],
   "source": [
    "import os\n",
    "import numpy as np\n",
    "import pandas as pd\n",
    "from glob import glob\n",
    "\n",
    "from dipy.reconst.dti import fractional_anisotropy"
   ]
  },
  {
   "cell_type": "code",
   "execution_count": 3,
   "id": "solid-catch",
   "metadata": {},
   "outputs": [],
   "source": [
    "ds_dir = os.path.join('/Users/KRS228/data/maastricht_dwi/',\n",
    "                      'preprocessed/dsi_studio/')\n",
    "kmeans_dir = os.path.join(ds_dir, 'kmeans')\n",
    "\n",
    "# define and create (if necessary) output directory\n",
    "out_dir = os.path.join(kmeans_dir, 'streamline_count')\n",
    "os.makedirs(out_dir, exist_ok=True)"
   ]
  },
  {
   "cell_type": "code",
   "execution_count": 4,
   "id": "069b6bd5-f96e-4d14-9bfa-8c808c374e2f",
   "metadata": {},
   "outputs": [],
   "source": [
    "# define subject list\n",
    "preprocessed_dir=os.path.abspath('/Users/KRS228/data/maastricht_dwi/preprocessed/01_diff_preprocessed')\n",
    "subid_list = [os.path.basename(x) for x in sorted((glob(preprocessed_dir+'/*')))]"
   ]
  },
  {
   "cell_type": "code",
   "execution_count": 5,
   "id": "97763753-0581-422d-95ec-9cea679443ba",
   "metadata": {},
   "outputs": [],
   "source": [
    "# create (non-tensor) FA dataframe\n",
    "roifa_df = pd.DataFrame(index=subid_list)"
   ]
  },
  {
   "cell_type": "code",
   "execution_count": 6,
   "id": "3993b110-1934-4d48-b13c-c7473e972380",
   "metadata": {},
   "outputs": [],
   "source": [
    "# define IC ROI list and subdivision codes\n",
    "roi_list = ['L_IC', 'R_IC']\n",
    "subdiv_list = ['c', 'd', 'x']"
   ]
  },
  {
   "cell_type": "code",
   "execution_count": 7,
   "id": "c9ca25f7-b1fa-430c-ba22-18876c793752",
   "metadata": {},
   "outputs": [],
   "source": [
    "for subid in subid_list:\n",
    "    for roi in roi_list:\n",
    "        for kx in range(2,6):\n",
    "            \n",
    "            # generate output filename\n",
    "            out_fname = '%s_%s_kmeans-%d_count-streamlines.csv'%(subid, roi, kx)\n",
    "            out_fpath = os.path.join(out_dir, out_fname)\n",
    "            \n",
    "            # create streamline count matrix (clusters-by-subdivisions)\n",
    "            sub_sl_mat = np.zeros((kx, len(subdiv_list)))\n",
    "\n",
    "            for i_subdiv in range (0, len(subdiv_list)):\n",
    "                \n",
    "                # create subdiv label by combining IC ROI with subdiv code\n",
    "                subdiv = roi + subdiv_list[i_subdiv]\n",
    "                \n",
    "                # here's where the data are for this subject/IC/k\n",
    "                subdiv_k_dir = os.path.join(kmeans_dir, \n",
    "                                            '%s_%s_kmeans-%d'%(subid, roi, kx),\n",
    "                                            subdiv)\n",
    "                # for each cluster, grab the number of streamlines \n",
    "                # that hit the current IC subdivision\n",
    "                for cluster in range(0, kx):\n",
    "                    cluster_fpath = os.path.join(subdiv_k_dir, \n",
    "                                                 '%s_%s_kmeans-%d_cluster%d.txt'%(subid, subdiv, kx, cluster))\n",
    "                    \n",
    "                    # count the number of lines in the file (aka number of streamlines)\n",
    "                    try:\n",
    "                        num_lines = sum(1 for line in open(cluster_fpath))\n",
    "                        sub_sl_mat[cluster, i_subdiv] = num_lines\n",
    "                    except OSError: \n",
    "                        # if file doesn't exist, then there were no streamlines to that cluster\n",
    "                        continue\n",
    "\n",
    "            # save intermediate files\n",
    "            #np.savetxt(out_fpath, sub_sl_mat)\n",
    "            \n",
    "            # compute (non-tensor) fractional anisotropy\n",
    "            sub_fa = fractional_anisotropy(sub_sl_mat)\n",
    "            mean_fa = np.mean(sub_fa)\n",
    "            roi_k_label = '%s_kmeans-%d'%(roi, kx)\n",
    "            roifa_df.loc[subid, roi_k_label] = mean_fa"
   ]
  },
  {
   "cell_type": "code",
   "execution_count": 8,
   "id": "14d30496-d9f2-4d87-ac89-f7ede20ec999",
   "metadata": {},
   "outputs": [
    {
     "data": {
      "text/html": [
       "<div>\n",
       "<style scoped>\n",
       "    .dataframe tbody tr th:only-of-type {\n",
       "        vertical-align: middle;\n",
       "    }\n",
       "\n",
       "    .dataframe tbody tr th {\n",
       "        vertical-align: top;\n",
       "    }\n",
       "\n",
       "    .dataframe thead th {\n",
       "        text-align: right;\n",
       "    }\n",
       "</style>\n",
       "<table border=\"1\" class=\"dataframe\">\n",
       "  <thead>\n",
       "    <tr style=\"text-align: right;\">\n",
       "      <th></th>\n",
       "      <th>L_IC_kmeans-2</th>\n",
       "      <th>L_IC_kmeans-3</th>\n",
       "      <th>L_IC_kmeans-4</th>\n",
       "      <th>L_IC_kmeans-5</th>\n",
       "      <th>R_IC_kmeans-2</th>\n",
       "      <th>R_IC_kmeans-3</th>\n",
       "      <th>R_IC_kmeans-4</th>\n",
       "      <th>R_IC_kmeans-5</th>\n",
       "    </tr>\n",
       "  </thead>\n",
       "  <tbody>\n",
       "    <tr>\n",
       "      <th>S01</th>\n",
       "      <td>0.701496</td>\n",
       "      <td>0.771928</td>\n",
       "      <td>0.761988</td>\n",
       "      <td>0.862666</td>\n",
       "      <td>0.682793</td>\n",
       "      <td>0.742240</td>\n",
       "      <td>0.745431</td>\n",
       "      <td>0.736159</td>\n",
       "    </tr>\n",
       "    <tr>\n",
       "      <th>S02</th>\n",
       "      <td>0.675932</td>\n",
       "      <td>0.735615</td>\n",
       "      <td>0.761475</td>\n",
       "      <td>0.799243</td>\n",
       "      <td>0.549129</td>\n",
       "      <td>0.634880</td>\n",
       "      <td>0.719185</td>\n",
       "      <td>0.000000</td>\n",
       "    </tr>\n",
       "    <tr>\n",
       "      <th>S03</th>\n",
       "      <td>0.443477</td>\n",
       "      <td>0.295651</td>\n",
       "      <td>0.337108</td>\n",
       "      <td>0.089969</td>\n",
       "      <td>0.617935</td>\n",
       "      <td>0.786871</td>\n",
       "      <td>0.816076</td>\n",
       "      <td>0.838286</td>\n",
       "    </tr>\n",
       "    <tr>\n",
       "      <th>S05</th>\n",
       "      <td>0.669853</td>\n",
       "      <td>0.753108</td>\n",
       "      <td>0.797581</td>\n",
       "      <td>0.814488</td>\n",
       "      <td>0.511721</td>\n",
       "      <td>0.579456</td>\n",
       "      <td>0.747080</td>\n",
       "      <td>0.767116</td>\n",
       "    </tr>\n",
       "    <tr>\n",
       "      <th>S06</th>\n",
       "      <td>0.467655</td>\n",
       "      <td>0.519608</td>\n",
       "      <td>0.528225</td>\n",
       "      <td>0.700396</td>\n",
       "      <td>0.753976</td>\n",
       "      <td>0.670015</td>\n",
       "      <td>0.772938</td>\n",
       "      <td>0.740202</td>\n",
       "    </tr>\n",
       "    <tr>\n",
       "      <th>S07</th>\n",
       "      <td>0.623018</td>\n",
       "      <td>0.759156</td>\n",
       "      <td>0.824894</td>\n",
       "      <td>0.836378</td>\n",
       "      <td>0.626321</td>\n",
       "      <td>0.647829</td>\n",
       "      <td>0.488475</td>\n",
       "      <td>0.731648</td>\n",
       "    </tr>\n",
       "    <tr>\n",
       "      <th>S08</th>\n",
       "      <td>0.695298</td>\n",
       "      <td>0.756172</td>\n",
       "      <td>0.605701</td>\n",
       "      <td>0.822335</td>\n",
       "      <td>0.771321</td>\n",
       "      <td>0.800129</td>\n",
       "      <td>0.746829</td>\n",
       "      <td>0.771744</td>\n",
       "    </tr>\n",
       "    <tr>\n",
       "      <th>S09</th>\n",
       "      <td>0.615267</td>\n",
       "      <td>0.596737</td>\n",
       "      <td>0.698219</td>\n",
       "      <td>0.745434</td>\n",
       "      <td>0.513332</td>\n",
       "      <td>0.460194</td>\n",
       "      <td>0.764561</td>\n",
       "      <td>0.566977</td>\n",
       "    </tr>\n",
       "    <tr>\n",
       "      <th>S10</th>\n",
       "      <td>0.606600</td>\n",
       "      <td>0.721715</td>\n",
       "      <td>0.541286</td>\n",
       "      <td>0.614414</td>\n",
       "      <td>0.563853</td>\n",
       "      <td>0.786142</td>\n",
       "      <td>0.748562</td>\n",
       "      <td>0.823039</td>\n",
       "    </tr>\n",
       "    <tr>\n",
       "      <th>S11</th>\n",
       "      <td>0.542558</td>\n",
       "      <td>0.556211</td>\n",
       "      <td>0.467505</td>\n",
       "      <td>0.665033</td>\n",
       "      <td>0.721265</td>\n",
       "      <td>0.677424</td>\n",
       "      <td>0.754154</td>\n",
       "      <td>0.850379</td>\n",
       "    </tr>\n",
       "  </tbody>\n",
       "</table>\n",
       "</div>"
      ],
      "text/plain": [
       "     L_IC_kmeans-2  L_IC_kmeans-3  L_IC_kmeans-4  L_IC_kmeans-5  \\\n",
       "S01       0.701496       0.771928       0.761988       0.862666   \n",
       "S02       0.675932       0.735615       0.761475       0.799243   \n",
       "S03       0.443477       0.295651       0.337108       0.089969   \n",
       "S05       0.669853       0.753108       0.797581       0.814488   \n",
       "S06       0.467655       0.519608       0.528225       0.700396   \n",
       "S07       0.623018       0.759156       0.824894       0.836378   \n",
       "S08       0.695298       0.756172       0.605701       0.822335   \n",
       "S09       0.615267       0.596737       0.698219       0.745434   \n",
       "S10       0.606600       0.721715       0.541286       0.614414   \n",
       "S11       0.542558       0.556211       0.467505       0.665033   \n",
       "\n",
       "     R_IC_kmeans-2  R_IC_kmeans-3  R_IC_kmeans-4  R_IC_kmeans-5  \n",
       "S01       0.682793       0.742240       0.745431       0.736159  \n",
       "S02       0.549129       0.634880       0.719185       0.000000  \n",
       "S03       0.617935       0.786871       0.816076       0.838286  \n",
       "S05       0.511721       0.579456       0.747080       0.767116  \n",
       "S06       0.753976       0.670015       0.772938       0.740202  \n",
       "S07       0.626321       0.647829       0.488475       0.731648  \n",
       "S08       0.771321       0.800129       0.746829       0.771744  \n",
       "S09       0.513332       0.460194       0.764561       0.566977  \n",
       "S10       0.563853       0.786142       0.748562       0.823039  \n",
       "S11       0.721265       0.677424       0.754154       0.850379  "
      ]
     },
     "execution_count": 8,
     "metadata": {},
     "output_type": "execute_result"
    }
   ],
   "source": [
    "roifa_df"
   ]
  },
  {
   "cell_type": "code",
   "execution_count": 10,
   "id": "1e3f53ae-d059-4838-86c7-cd366436a32d",
   "metadata": {},
   "outputs": [
    {
     "data": {
      "text/plain": [
       "L_IC_kmeans-2    0.604115\n",
       "L_IC_kmeans-3    0.646590\n",
       "L_IC_kmeans-4    0.632398\n",
       "L_IC_kmeans-5    0.695036\n",
       "R_IC_kmeans-2    0.631165\n",
       "R_IC_kmeans-3    0.678518\n",
       "R_IC_kmeans-4    0.730329\n",
       "R_IC_kmeans-5    0.682555\n",
       "dtype: float64"
      ]
     },
     "execution_count": 10,
     "metadata": {},
     "output_type": "execute_result"
    }
   ],
   "source": [
    "# get the across-subject mean FA per IC per n_k\n",
    "roifa_df.mean(axis=0)"
   ]
  },
  {
   "cell_type": "code",
   "execution_count": 17,
   "id": "86afc8b4-6d71-4e79-8d7b-842bc9f8b749",
   "metadata": {},
   "outputs": [],
   "source": [
    "from scipy.stats import f_oneway, kruskal"
   ]
  },
  {
   "cell_type": "code",
   "execution_count": 14,
   "id": "758da27c-a183-439a-82e5-c4a9b1d7d8f6",
   "metadata": {},
   "outputs": [
    {
     "data": {
      "text/plain": [
       "F_onewayResult(statistic=1.9850121654224295, pvalue=0.1390714122818535)"
      ]
     },
     "execution_count": 14,
     "metadata": {},
     "output_type": "execute_result"
    }
   ],
   "source": [
    "f_oneway(roifa_df.iloc[0], roifa_df.iloc[1], roifa_df.iloc[2], roifa_df.iloc[3])"
   ]
  },
  {
   "cell_type": "code",
   "execution_count": 15,
   "id": "82433c39-6b92-432f-aa36-de64dffed3bc",
   "metadata": {},
   "outputs": [
    {
     "data": {
      "text/plain": [
       "F_onewayResult(statistic=2.2167235627309965, pvalue=0.10826088562807842)"
      ]
     },
     "execution_count": 15,
     "metadata": {},
     "output_type": "execute_result"
    }
   ],
   "source": [
    "f_oneway(roifa_df.iloc[4], roifa_df.iloc[5], roifa_df.iloc[6], roifa_df.iloc[7])"
   ]
  },
  {
   "cell_type": "code",
   "execution_count": 44,
   "id": "910ed4bb-4e2a-4a54-b97e-cbde2deb3741",
   "metadata": {},
   "outputs": [
    {
     "data": {
      "text/plain": [
       "F_onewayResult(statistic=1.812128877755439, pvalue=0.10291236730375136)"
      ]
     },
     "execution_count": 44,
     "metadata": {},
     "output_type": "execute_result"
    }
   ],
   "source": [
    "f_oneway(roifa_df.iloc[0], roifa_df.iloc[1], roifa_df.iloc[2], roifa_df.iloc[3], roifa_df.iloc[4], roifa_df.iloc[5], roifa_df.iloc[6], roifa_df.iloc[7])"
   ]
  },
  {
   "cell_type": "code",
   "execution_count": 43,
   "id": "5d7b868b-318e-4d2b-911e-2fe5328c09fa",
   "metadata": {},
   "outputs": [
    {
     "data": {
      "text/plain": [
       "F_onewayResult(statistic=0.36862587945234343, pvalue=0.7762003470110113)"
      ]
     },
     "execution_count": 43,
     "metadata": {},
     "output_type": "execute_result"
    }
   ],
   "source": [
    "f_oneway(roifa_df.iloc[0]+roifa_df.iloc[4], roifa_df.iloc[1]+roifa_df.iloc[5], roifa_df.iloc[2]+roifa_df.iloc[6], roifa_df.iloc[3]+roifa_df.iloc[7])"
   ]
  },
  {
   "cell_type": "code",
   "execution_count": 38,
   "id": "bb9b7e1f-7ac1-4290-9681-365784cb2f26",
   "metadata": {},
   "outputs": [
    {
     "data": {
      "text/plain": [
       "KruskalResult(statistic=0.5028409090909065, pvalue=0.918266834488518)"
      ]
     },
     "execution_count": 38,
     "metadata": {},
     "output_type": "execute_result"
    }
   ],
   "source": [
    "kruskal(roifa_df.iloc[0]+roifa_df.iloc[4], roifa_df.iloc[1]+roifa_df.iloc[5], roifa_df.iloc[2]+roifa_df.iloc[6], roifa_df.iloc[3]+roifa_df.iloc[7])"
   ]
  }
 ],
 "metadata": {
  "kernelspec": {
   "display_name": "Python 3 (ipykernel)",
   "language": "python",
   "name": "python3"
  },
  "language_info": {
   "codemirror_mode": {
    "name": "ipython",
    "version": 3
   },
   "file_extension": ".py",
   "mimetype": "text/x-python",
   "name": "python",
   "nbconvert_exporter": "python",
   "pygments_lexer": "ipython3",
   "version": "3.9.1"
  }
 },
 "nbformat": 4,
 "nbformat_minor": 5
}
